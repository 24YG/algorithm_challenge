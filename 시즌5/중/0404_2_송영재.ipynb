# 2일차
n = int(input())
num = sorted(list(map(int,input().split())))
m = int(input())
mum = list(map(int,input().split()))

count = {}

for i in num :
    if i in count :
        count[i] += 1
    else :
        count[i] = 1

for j in mum :
    if j in count :
        print(count[j], end =' ')
    else :
        print(0, end = ' ')
