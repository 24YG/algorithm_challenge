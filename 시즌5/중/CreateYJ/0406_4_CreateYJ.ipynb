#4일차

#집의 수 n
n = int(input())
# 거리라는 선분을 배열로 설정
street = []

for _ in range(n) :
    street.append(list(map(int,input().split())))

for i in range(1, len(street)) :
    street[i][0]+=min(street[i-1][1],street[i-1][2])
    street[i][1]+=min(street[i-1][0],street[i-1][2])
    street[i][2]+=min(street[i-1][0],street[i-1][1])

print(min(street[n-1]))

