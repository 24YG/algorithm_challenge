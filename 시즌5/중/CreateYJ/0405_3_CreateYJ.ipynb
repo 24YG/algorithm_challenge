#3일차
# sys = 반복문으로 여러줄을 입력 받아야할 때 그냥 input은 시간발생 가능
from collections import Counter
import sys

n = int(sys.stdin.readline())
ls = []
for i in range(n) :
    ls.append(int(sys.stdin.readline()))

print(round(sum(ls) / n))

ls.sort()
print(ls[n // 2])

count = Counter(ls).most_common()
if len(count) > 1 and count[0][1] == count[1][1] :
    print(count[1][0])
else :
    print(count[0][0])



print(max(ls) - min(ls))
