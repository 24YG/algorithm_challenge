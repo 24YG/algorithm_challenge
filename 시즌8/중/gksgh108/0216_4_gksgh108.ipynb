n = int(input())
lst = []

for i in range(n):
    a, b = map(int, input().split())
    lst.append(a-b)

lst.sort()

if n%2 == 1:
    print(1)
else:
    print(abs(lst[n//2] - lst[n//2-1]) + 1)
