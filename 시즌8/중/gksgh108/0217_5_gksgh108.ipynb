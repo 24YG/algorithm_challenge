N = int(input())
home = []

for _ in range(N):
    home.append(list(map(int, input().split())))

paint = [[0]*3 for i in range(N)]

paint[0] = home[0]

for i in range(1, N):
    # 이전 집의 현재색을 제외한 나머지 색의 최소 + 현재 색의 가격
    paint[i][0] = min(paint[i-1][1], paint[i-1][2]) + home[i][0]
    paint[i][1] = min(paint[i-1][0], paint[i-1][2]) + home[i][1]
    paint[i][2] = min(paint[i-1][0], paint[i-1][1]) + home[i][2]
    
print(min(paint[-1]))
