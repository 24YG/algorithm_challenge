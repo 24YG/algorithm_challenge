# 도형 안에 있는 정사각형 개수 세기
H, W = map(int, input().split())
board = [[''] * (W+2) for _ in range(H+2)] # board 생성
in_board = [[False] * (W+2) for _ in range(H+2)] # 기본적으로 False값으로 생성

for i in range(1, H + 1): # board에 저장
    row = input()
    for j in range(1, W + 1):
        board[i][j] = row[j-1]

for i in range(1, H + 1): # 반복문으로 수행하며 현재 위치의 문자가 '/', '\', 혹은 이전 위치에서 나갔던 상태인지 검사
    out = True
    for j in range(1, W + 1):
        if board[i][j] == '/' or board[i][j] == '\\': # '/', '\', 혹은 이전 위치에서 나갔던 상태라면 in_board 값을 True로 변경
            out = not out
            in_board[i][j] = True
        elif not out:
            in_board[i][j] = True

sum_val = 0
cnt_val = 0

# 각 행과 열을 반복하면서 만약 현재 위치의 문자가 '/'이거나 '\'이면 cnt_val 값을 1 증가
# 그렇지 않고 in_board 값이 True라면 sum_val 값을 1 증가
for i in range(1,H+1):
    for j in range(1,W+1):
        if board[i][j]=='/' or board[i][j]=='\\':
            cnt_val += 1
        elif in_board[i][j]:
            sum_val += 1
            
print(sum_val + cnt_val // 2)
