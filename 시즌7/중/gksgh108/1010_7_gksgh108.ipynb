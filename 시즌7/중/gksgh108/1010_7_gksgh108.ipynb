import math

T = int(input())

for _ in range(T):
    x1,y1,r1,x2,y2,r2 = map(int,input().split())
    d = math.sqrt((x2-x1)**2 + (y2-y1)**2) #두 점 사이의 거리 계산
    if d == 0 and r1 == r2 : #두 점사이거리와 각각에서 측정된 걸림돌과의 거리가 같으면 
        print(-1)
    elif abs(r1-r2) == d or r1+r2 == d : #내접, 외접인경우
        print(1)
    elif abs(r1-r2) < d < (r1+r2) : #두 접접선 그릴수있음
        print(2)
    else:
        print(0)
