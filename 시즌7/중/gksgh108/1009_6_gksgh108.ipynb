import sys
sys.setrecursionlimit(10**6)

dx = [1, -1, 0, 0]
dy = [0, 0, -1, 1]

def dfs(x,y):
    visited[x][y] = True
    for i in range(4):
        nx = x + dx[i]
        ny = y + dy[i]
        if (0 <= nx < N) and (0 <= ny < M):
            if arr[nx][ny] and not visited[nx][ny]:
                dfs(nx, ny)

for _ in range(int(input())):
    M,N,K = map(int,input().split())
    arr = [[0]*M for _ in range(N)]
    visited=[[False]*M for _ in range(N)]
    
    for _ in range(K):
        y,x=map(int,input().split())
        arr[x][y]=1

    answer=0
    for i in range(N):
        for j in range(M):
            if arr[i][j] and not visited[i][j]:
                dfs(i,j)
                answer += 1

    print(answer)
