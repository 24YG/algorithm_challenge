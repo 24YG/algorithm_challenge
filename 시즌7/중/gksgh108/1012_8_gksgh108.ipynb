N, M = map(int, input().split())
trees = list(map(int, input().split()))

start, end = 1, max(trees) 

while start <= end: 
    mid = (start+end)//2 

    logs = sum([tree-mid if tree-mid > 0 else 0 for tree in trees]) 
    
    if logs >= M: 
        start = mid + 1
    else:
        end = mid - 1

print(end)
