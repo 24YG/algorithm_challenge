{
 "cells": [
  {
   "cell_type": "code",
   "execution_count": 13,
   "id": "9868581e",
   "metadata": {},
   "outputs": [
    {
     "name": "stdout",
     "output_type": "stream",
     "text": [
      "7\n",
      "1 3 5 7 4 2 6\n"
     ]
    }
   ],
   "source": [
    "a = int(input())\n",
    "card = [i for i in range(1,a+1)]\n",
    "discard = []\n",
    "while len(card) != 1:\n",
    "    discard.append(card.pop(0))\n",
    "    card.append(card.pop(0))\n",
    "for i in discard:\n",
    "    print(i, end=\" \")\n",
    "print(card[0])"
   ]
  }
 ],
 "metadata": {
  "kernelspec": {
   "display_name": "Python 3 (ipykernel)",
   "language": "python",
   "name": "python3"
  },
  "language_info": {
   "codemirror_mode": {
    "name": "ipython",
    "version": 3
   },
   "file_extension": ".py",
   "mimetype": "text/x-python",
   "name": "python",
   "nbconvert_exporter": "python",
   "pygments_lexer": "ipython3",
   "version": "3.11.4"
  }
 },
 "nbformat": 4,
 "nbformat_minor": 5
}
