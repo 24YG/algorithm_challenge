{
 "cells": [
  {
   "cell_type": "code",
   "execution_count": 17,
   "id": "e0a9c118",
   "metadata": {},
   "outputs": [
    {
     "name": "stdout",
     "output_type": "stream",
     "text": [
      "5\n",
      "7 6 8 6 9\n",
      "4\n"
     ]
    }
   ],
   "source": [
    "N = int(input())\n",
    "fList = list(map(int,input().split()))\n",
    "for i in range(N-3):\n",
    "    if(fList[0]>fList[-1]):\n",
    "        fList[0]-=1\n",
    "    else:\n",
    "        fList[-1]-=1\n",
    "fList[0]-=1; fList[-1]-=1\n",
    "print(max(fList[0],fList[-1]))"
   ]
  },
  {
   "cell_type": "markdown",
   "id": "f7eeb9fd",
   "metadata": {},
   "source": []
  }
 ],
 "metadata": {
  "kernelspec": {
   "display_name": "Python 3 (ipykernel)",
   "language": "python",
   "name": "python3"
  },
  "language_info": {
   "codemirror_mode": {
    "name": "ipython",
    "version": 3
   },
   "file_extension": ".py",
   "mimetype": "text/x-python",
   "name": "python",
   "nbconvert_exporter": "python",
   "pygments_lexer": "ipython3",
   "version": "3.11.5"
  }
 },
 "nbformat": 4,
 "nbformat_minor": 5
}
