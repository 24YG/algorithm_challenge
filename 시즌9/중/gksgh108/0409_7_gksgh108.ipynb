n = int(input())
for _ in range(n):
    m = int(input())
    result = []
    dev = 2
    while m != 1:
        count = 0
        while True:
            if m % dev == 0:
                m //= dev
                count += 1
            else:
                break
        result.append([dev, count])
        dev += 1
    for i in result:
        if i[1]:
            print(*i)
