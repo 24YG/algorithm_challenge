def solve(n, k):
    dp = [10**9] * (n + 1)
    dp[0] = 0
    for i in range(n):
        dp[i + 1] = min(dp[i + 1], dp[i] + 1)
        m = i + i // 2
        if m <= n:
            dp[m] = min(dp[m], dp[i] + 1)
    return "minigimbob" if dp[n] <= k else "water"

n, k = map(int, input().split())

print(solve(n, k))
