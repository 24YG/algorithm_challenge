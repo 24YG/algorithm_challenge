n = int(input())

if n <= 3:
    print(0 if n <= 2 else 1)
else:
    res = 2
    val = 2
    for i in range(5, n+1):
        res += val
        if i % 2 == 0:
            val += 1
    print(res)
