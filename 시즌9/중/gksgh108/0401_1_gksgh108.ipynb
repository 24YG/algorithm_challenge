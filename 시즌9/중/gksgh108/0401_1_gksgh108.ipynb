N = int(input())
A = list(map(int, input().split()))
i = N - 2
while i:
    if i == 1:  # i가 1일 경우, A[0]과 A[N-1] 모두 1 감소
        A[0] -= 1
        A[N - 1] -= 1
    else:  # 그 외의 경우, A[0]과 A[N-1] 중 더 큰 값을 갖는 요소를 1 감소
        if A[0] >= A[N - 1]:
            A[0] -= 1
        else:
            A[N - 1] -= 1
    i -= 1
if A[0] >= A[N - 1]:  # 최종적으로 A[0]과 A[N-1] 중 더 큰 값을 출력
    print(A[0])
else:
    print(A[N - 1])
