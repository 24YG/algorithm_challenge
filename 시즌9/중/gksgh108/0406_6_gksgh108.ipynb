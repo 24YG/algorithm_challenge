p = int(input())
results = []
for _ in range(p):
    n, m = map(int, input().split())
    a, b = 0, 1
    for i in range(0, m * m):
        a, b = b, (a + b) % m
        if a == 0 and b == 1:
            results.append((n, i + 1))
            break

for n, period in results:
    print(f"{n} {period}")
