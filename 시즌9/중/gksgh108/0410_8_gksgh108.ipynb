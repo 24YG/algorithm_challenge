MAP = [[0]*5 for _ in range(5)]
Answer = 0
Visit = [False] * 1000000
dx = [0, 0, 1, -1]
dy = [1, -1, 0, 0]

def Input():
    for i in range(5):
        row = list(map(int, input().split()))
        for j in range(5):
            MAP[i][j] = row[j]

def DFS(x, y, Sum, Cnt):
    global Answer
    if Cnt == 5:
        if not Visit[Sum]:
            Visit[Sum] = True
            Answer += 1
        return
    for i in range(4):
        nx = x + dx[i]
        ny = y + dy[i]
        if 0 <= nx < 5 and 0 <= ny < 5:
            DFS(nx, ny, Sum * 10 + MAP[nx][ny], Cnt + 1)

def Solution():
    for i in range(5):
        for j in range(5):
            DFS(i, j, MAP[i][j], 0)
    print(Answer)

Input()
Solution()
