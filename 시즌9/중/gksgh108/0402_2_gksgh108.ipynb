while True:
    answer = 1  # 1은 POSSIBLE을 출력
    input_value = int(input())
    if input_value == 0:
        break  # 사용자가 충전소의 개수로 0을 입력할 때까지 계속 입력

    v = []
    for _ in range(input_value):
        n = int(input())
        v.append(n)  # 각 충전소의 위치를 리스트에 넣음

    v.sort()

    for i in range(1, len(v)):
        if v[i] - v[i-1] > 200:
            answer = 0
            break  # 거리가 200이 넘지 않는지를 확인
                   # 넘게 되는 경우 IMPOSSIBLE을 출력할 수 있도록 answer = 0으로 설정

    if (1422 - v[-1]) * 2 > 200:
        answer = 0  # 마지막 충전소도 확인

    if answer == 1:
        print("POSSIBLE")  #
    else:
        print("IMPOSSIBLE")  #
