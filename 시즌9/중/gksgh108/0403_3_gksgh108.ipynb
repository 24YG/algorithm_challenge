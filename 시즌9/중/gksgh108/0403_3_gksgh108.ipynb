def convert(x):
    return (x + 2) % 4 if x != 2 else 4

N = int(input())
standard = list(map(int, input().split()))
rev_standard = [convert(x) for x in standard[::-1]]

cnt = 0
result = []

for _ in range(int(input())):
    ctr_grp = list(map(int, input().split()))

    tmp = ctr_grp.copy()
    for _ in range(N):
        if standard == tmp or rev_standard == tmp:
            cnt += 1
            result.append(ctr_grp)
            break
        tmp = tmp[1:] + [tmp[0]]

print(cnt)
for res in result:
    print(' '.join(map(str, res)))
