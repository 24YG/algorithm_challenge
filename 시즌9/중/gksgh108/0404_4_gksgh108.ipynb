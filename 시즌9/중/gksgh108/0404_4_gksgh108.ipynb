import sys

MAX = 1000001
arr = [0] * (MAX)

for i in range(2, MAX):
    buffer = 0
    for j in range(i, MAX):
        buffer = buffer + j
        if buffer >= MAX:
            break
        arr[buffer] = arr[buffer] + 1

while True:
    price = int(sys.stdin.readline())
    if price == 0:
        break
    sys.stdout.write("%d\n" % arr[price])
