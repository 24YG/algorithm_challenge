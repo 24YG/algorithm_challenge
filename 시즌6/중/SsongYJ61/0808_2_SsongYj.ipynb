hurt = int(input())
cnt = int(input())

if hurt == 1 :
    print(cnt * 8)

elif hurt == 5 :
    print((cnt * 8) + (hurt - 1))

else :
    if cnt % 2 == 0 :
        cnt //= 2
        print((cnt * 8) + (hurt - 1))
    else :
        print((cnt * 8) + (1 - hurt))
