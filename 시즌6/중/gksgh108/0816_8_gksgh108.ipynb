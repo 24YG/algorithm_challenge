import sys

input = sys.stdin.readline

N = int(input())
A, B = map(int, input().split())
spot = [tuple(map(int, input().split())) for _ in range(N)]

xy_set = set(spot)

cnt = 0

for x, y in spot:
    p1 = (x + A, y)
    p2 = (x, y + B)
    p3 = (x + A, y + B)

    if p1 in xy_set and p2 in xy_set and p3 in xy_set:
        cnt += 1

print(cnt)
