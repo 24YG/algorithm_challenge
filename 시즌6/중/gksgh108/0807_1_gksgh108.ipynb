#위치(x, y), 평행, 대각선 시간
x, y, w, s = map(int, input().split())  

# 오로지 평행 이동
move1 = (x + y) * w

# 짝수, 홀수에 따른 이동
# x + y가 짝수라면 -> x, y 중에 큰 값을 골라 s(대각선 이동) 값만 곱
if (x + y) % 2 == 0:  
    move2 = max(x, y) * s
else:  #홀수라면 -> x, y 중 큰 값에서 1을 빼주고 s(대각선 이동) 값을 곱해준 후, 빼준 1만큼 w(평행 이동)을 더하
    move2 = (max(x, y) - 1) * s + w
    
# 대각선 후 + 평행 이동
move3 = (min(x, y) * s) + ((max(x, y) - min(x, y)) * w) # + 이후는 (abs(x-y) * w)랑 같음 (절대값에 익숙치 않아서 사용 X)

res = min(min(move1, move2), move3)

print(res)
