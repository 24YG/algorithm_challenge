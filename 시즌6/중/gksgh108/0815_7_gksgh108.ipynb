n, m = map(int, input().split())
leaked = list(map(int, input().split()))

leaked.sort()  # 물이 새는 곳의 위치를 정렬

tapes = 0
tape_end = 0

for leak in leaked:
    if tape_end < leak:
        tapes += 1
        tape_end = leak + m - 0.5  # 새로운 테이프로 덮을 때, 현재 위치의 0.5만큼 덮도록 종료 위치 설정

print(int(tapes))
