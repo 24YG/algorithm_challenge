def main():
    a = int(input())
    b = int(input())
    print(finger(a, b))

def finger(a, b):
    if a == 1:
        return 8 * b
    elif a == 5:
        return 8 * b + 4
    else:
        return 4 * b + 1 + (4 - a if b % 2 == 1 else a - 2)

main()
