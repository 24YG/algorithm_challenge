import sys
from math import gcd

input = sys.stdin.readline
x, y = map(int, input().split())

tile_count = x + y - gcd(x, y)
print(tile_count)
