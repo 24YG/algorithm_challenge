from math import sqrt

def main():
    n = int(input())
    robots = [tuple(map(int, input().split())) for _ in range(n)]
    
    # 로봇별 격추 시간(time)과 인덱스(idx)를 리스트에 저장
    robot_times = [(sqrt(x[0] ** 2 + x[1] ** 2) / x[2], idx) for idx, x in enumerate(robots)]

    # 시간과 로봇의 인덱스 기준으로 정렬
    sorted_robot_times = sorted(robot_times, key=lambda x: (x[0], x[1]))

    for _, robot_idx in sorted_robot_times:
        print(robot_idx + 1)

if __name__ == '__main__':
    main()
