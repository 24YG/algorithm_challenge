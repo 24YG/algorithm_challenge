n = int(input())
board = [list(map(int, input())) for _ in range(n)]


def QT(x, y, n):
    check = board[x][y]
    for i in range(x, x + n):
        for j in range(y, y + n):
            if check != board[i][j]:
                check = -1
                break

    if check == -1:
        print("(", end='')
        n = n // 2
        QT(x, y, n)  # 오른쪽 위
        QT(x, y + n, n)  # 왼쪽 위
        QT(x + n, y, n)  # 오른쪽 아래
        QT(x + n, y + n, n)  # 왼쪽 아래
        print(")", end='')

    elif check == 1:
        print(1, end='')
    else:
        print(0, end='')


QT(0, 0, n)
